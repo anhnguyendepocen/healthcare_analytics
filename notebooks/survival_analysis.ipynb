{
 "cells": [
  {
   "cell_type": "code",
   "execution_count": 1,
   "metadata": {},
   "outputs": [],
   "source": [
    "%matplotlib inline"
   ]
  },
  {
   "cell_type": "code",
   "execution_count": 2,
   "metadata": {},
   "outputs": [],
   "source": [
    "from matplotlib import pyplot as plt\n",
    "import numpy as np\n",
    "import pymc3 as pm\n",
    "from pymc3.distributions.timeseries import GaussianRandomWalk\n",
    "import seaborn as sns\n",
    "import pandas as pd\n",
    "from theano import tensor as T"
   ]
  },
  {
   "cell_type": "code",
   "execution_count": 3,
   "metadata": {},
   "outputs": [],
   "source": [
    "df = pd.read_csv('../data/mastectomy.csv')\n",
    "df = df.assign(event = np.array(df['event'].values == True).astype(int))\n",
    "df = df.assign(metastized = np.array(df['metastized'].values == 'yes').astype(int))\n",
    "n_patients = df.shape[0]\n",
    "patients = np.arange(n_patients)"
   ]
  },
  {
   "cell_type": "code",
   "execution_count": 29,
   "metadata": {},
   "outputs": [
    {
     "data": {
      "text/html": [
       "<div>\n",
       "<style scoped>\n",
       "    .dataframe tbody tr th:only-of-type {\n",
       "        vertical-align: middle;\n",
       "    }\n",
       "\n",
       "    .dataframe tbody tr th {\n",
       "        vertical-align: top;\n",
       "    }\n",
       "\n",
       "    .dataframe thead th {\n",
       "        text-align: right;\n",
       "    }\n",
       "</style>\n",
       "<table border=\"1\" class=\"dataframe\">\n",
       "  <thead>\n",
       "    <tr style=\"text-align: right;\">\n",
       "      <th></th>\n",
       "      <th>time</th>\n",
       "      <th>event</th>\n",
       "      <th>metastized</th>\n",
       "    </tr>\n",
       "  </thead>\n",
       "  <tbody>\n",
       "    <tr>\n",
       "      <th>0</th>\n",
       "      <td>23</td>\n",
       "      <td>1</td>\n",
       "      <td>0</td>\n",
       "    </tr>\n",
       "    <tr>\n",
       "      <th>1</th>\n",
       "      <td>47</td>\n",
       "      <td>1</td>\n",
       "      <td>0</td>\n",
       "    </tr>\n",
       "    <tr>\n",
       "      <th>2</th>\n",
       "      <td>69</td>\n",
       "      <td>1</td>\n",
       "      <td>0</td>\n",
       "    </tr>\n",
       "    <tr>\n",
       "      <th>3</th>\n",
       "      <td>70</td>\n",
       "      <td>0</td>\n",
       "      <td>0</td>\n",
       "    </tr>\n",
       "    <tr>\n",
       "      <th>4</th>\n",
       "      <td>100</td>\n",
       "      <td>0</td>\n",
       "      <td>0</td>\n",
       "    </tr>\n",
       "    <tr>\n",
       "      <th>5</th>\n",
       "      <td>101</td>\n",
       "      <td>0</td>\n",
       "      <td>0</td>\n",
       "    </tr>\n",
       "    <tr>\n",
       "      <th>6</th>\n",
       "      <td>148</td>\n",
       "      <td>1</td>\n",
       "      <td>0</td>\n",
       "    </tr>\n",
       "    <tr>\n",
       "      <th>7</th>\n",
       "      <td>181</td>\n",
       "      <td>1</td>\n",
       "      <td>0</td>\n",
       "    </tr>\n",
       "    <tr>\n",
       "      <th>8</th>\n",
       "      <td>198</td>\n",
       "      <td>0</td>\n",
       "      <td>0</td>\n",
       "    </tr>\n",
       "    <tr>\n",
       "      <th>9</th>\n",
       "      <td>208</td>\n",
       "      <td>0</td>\n",
       "      <td>0</td>\n",
       "    </tr>\n",
       "    <tr>\n",
       "      <th>10</th>\n",
       "      <td>212</td>\n",
       "      <td>0</td>\n",
       "      <td>0</td>\n",
       "    </tr>\n",
       "    <tr>\n",
       "      <th>11</th>\n",
       "      <td>224</td>\n",
       "      <td>0</td>\n",
       "      <td>0</td>\n",
       "    </tr>\n",
       "  </tbody>\n",
       "</table>\n",
       "</div>"
      ],
      "text/plain": [
       "    time  event  metastized\n",
       "0     23      1           0\n",
       "1     47      1           0\n",
       "2     69      1           0\n",
       "3     70      0           0\n",
       "4    100      0           0\n",
       "5    101      0           0\n",
       "6    148      1           0\n",
       "7    181      1           0\n",
       "8    198      0           0\n",
       "9    208      0           0\n",
       "10   212      0           0\n",
       "11   224      0           0"
      ]
     },
     "execution_count": 29,
     "metadata": {},
     "output_type": "execute_result"
    }
   ],
   "source": [
    "df.loc[df['metastized']==0].sort_values(by=['time','metastized'])"
   ]
  },
  {
   "cell_type": "code",
   "execution_count": 5,
   "metadata": {},
   "outputs": [
    {
     "data": {
      "image/png": "[encoded data removed]",
      "text/plain": [
       "<Figure size 576x432 with 1 Axes>"
      ]
     },
     "metadata": {
      "needs_background": "light"
     },
     "output_type": "display_data"
    }
   ],
   "source": [
    "fig, ax = plt.subplots(figsize=(8, 6))\n",
    "\n",
    "blue, _, red = sns.color_palette()[:3]\n",
    "\n",
    "ax.hlines(patients[df.event.values == 0], 0, df[df.event.values == 0].time,\n",
    "          color=blue, label='Censored')\n",
    "\n",
    "ax.hlines(patients[df.event.values == 1], 0, df[df.event.values == 1].time,\n",
    "          color=red, label='Uncensored')\n",
    "\n",
    "ax.scatter(df[df.metastized.values == 1].time, patients[df.metastized.values == 1],\n",
    "           color='k', zorder=10, label='Metastized')\n",
    "\n",
    "ax.set_xlim(left=0)\n",
    "ax.set_xlabel('Months since mastectomy')\n",
    "ax.set_yticks([])\n",
    "ax.set_ylabel('Subject')\n",
    "\n",
    "ax.set_ylim(-0.25, n_patients + 0.25)\n",
    "\n",
    "ax.legend(loc='center right');"
   ]
  },
  {
   "cell_type": "code",
   "execution_count": 6,
   "metadata": {},
   "outputs": [],
   "source": [
    "interval_length = 3\n",
    "interval_bounds = np.arange(0, df.time.max() + interval_length + 1, interval_length)\n",
    "n_intervals = interval_bounds.size - 1\n",
    "intervals = np.arange(n_intervals)"
   ]
  },
  {
   "cell_type": "code",
   "execution_count": 7,
   "metadata": {},
   "outputs": [
    {
     "data": {
      "image/png": "[encoded data removed]",
      "text/plain": [
       "<Figure size 576x432 with 1 Axes>"
      ]
     },
     "metadata": {
      "needs_background": "light"
     },
     "output_type": "display_data"
    }
   ],
   "source": [
    "fig, ax = plt.subplots(figsize=(8, 6))\n",
    "\n",
    "ax.hist(df[df.event == 1].time.values, bins=interval_bounds,\n",
    "        color=red, alpha=0.5, lw=0,\n",
    "        label='Uncensored');\n",
    "ax.hist(df[df.event == 0].time.values, bins=interval_bounds,\n",
    "        color=blue, alpha=0.5, lw=0,\n",
    "        label='Censored');\n",
    "\n",
    "ax.set_xlim(0, interval_bounds[-1]);\n",
    "ax.set_xlabel('Months since mastectomy');\n",
    "\n",
    "ax.set_yticks([0, 1, 2, 3]);\n",
    "ax.set_ylabel('Number of observations');\n",
    "\n",
    "ax.legend();"
   ]
  },
  {
   "cell_type": "code",
   "execution_count": 8,
   "metadata": {},
   "outputs": [],
   "source": [
    "last_period = np.floor((df.time - 0.01) / interval_length).astype(int)\n",
    "\n",
    "death = np.zeros((n_patients, n_intervals))\n",
    "death[patients, last_period] = df.event"
   ]
  },
  {
   "cell_type": "code",
   "execution_count": 9,
   "metadata": {},
   "outputs": [],
   "source": [
    "exposure = np.greater_equal.outer(df.time.values, interval_bounds[:-1]) * interval_length\n",
    "exposure[patients, last_period] = df.time - interval_bounds[last_period]"
   ]
  },
  {
   "cell_type": "code",
   "execution_count": 10,
   "metadata": {},
   "outputs": [],
   "source": [
    "SEED = 644567 # from random.org"
   ]
  },
  {
   "cell_type": "code",
   "execution_count": 22,
   "metadata": {},
   "outputs": [
    {
     "data": {
      "text/plain": [
       "array([[3, 3, 3, ..., 0, 0, 0],\n",
       "       [3, 3, 3, ..., 0, 0, 0],\n",
       "       [3, 3, 3, ..., 0, 0, 0],\n",
       "       ...,\n",
       "       [3, 3, 3, ..., 0, 0, 0],\n",
       "       [3, 3, 3, ..., 0, 0, 0],\n",
       "       [3, 3, 3, ..., 3, 3, 3]])"
      ]
     },
     "execution_count": 22,
     "metadata": {},
     "output_type": "execute_result"
    }
   ],
   "source": [
    "exposure"
   ]
  },
  {
   "cell_type": "code",
   "execution_count": 11,
   "metadata": {},
   "outputs": [],
   "source": [
    "with pm.Model() as model:\n",
    "\n",
    "    lambda0 = pm.Gamma('lambda0', 0.01, 0.01, shape=n_intervals)\n",
    "\n",
    "    beta = pm.Normal('beta', 0, sigma=1000)\n",
    "\n",
    "    lambda_ = pm.Deterministic('lambda_', T.outer(T.exp(beta * df.metastized), lambda0))\n",
    "    mu = pm.Deterministic('mu', exposure * lambda_)\n",
    "\n",
    "    obs = pm.Poisson('obs', mu, observed=death)"
   ]
  },
  {
   "cell_type": "code",
   "execution_count": 12,
   "metadata": {},
   "outputs": [],
   "source": [
    "n_samples = 1000\n",
    "n_tune = 1000"
   ]
  },
  {
   "cell_type": "code",
   "execution_count": 13,
   "metadata": {},
   "outputs": [
    {
     "name": "stderr",
     "output_type": "stream",
     "text": [
      "Auto-assigning NUTS sampler...\n",
      "Initializing NUTS using jitter+adapt_diag...\n",
      "Multiprocess sampling (2 chains in 2 jobs)\n",
      "NUTS: [beta, lambda0]\n"
     ]
    },
    {
     "data": {
      "text/html": [
       "\n",
       "    <div>\n",
       "        <style>\n",
       "            /* Turns off some styling */\n",
       "            progress {\n",
       "                /* gets rid of default border in Firefox and Opera. */\n",
       "                border: none;\n",
       "                /* Needs to be in here for Safari polyfill so background images work as expected. */\n",
       "                background-size: auto;\n",
       "            }\n",
       "            .progress-bar-interrupted, .progress-bar-interrupted::-webkit-progress-bar {\n",
       "                background: #F44336;\n",
       "            }\n",
       "        </style>\n",
       "      <progress value='4000' class='' max='4000' style='width:300px; height:20px; vertical-align: middle;'></progress>\n",
       "      100.00% [4000/4000 00:15<00:00 Sampling 2 chains, 1,993 divergences]\n",
       "    </div>\n",
       "    "
      ],
      "text/plain": [
       "<IPython.core.display.HTML object>"
      ]
     },
     "metadata": {},
     "output_type": "display_data"
    },
    {
     "name": "stderr",
     "output_type": "stream",
     "text": [
      "Sampling 2 chains for 1_000 tune and 1_000 draw iterations (2_000 + 2_000 draws total) took 16 seconds.\n",
      "There were 998 divergences after tuning. Increase `target_accept` or reparameterize.\n",
      "There were 995 divergences after tuning. Increase `target_accept` or reparameterize.\n",
      "The acceptance probability does not match the target. It is 0.6375765201340926, but should be close to 0.8. Try to increase the number of tuning steps.\n",
      "The rhat statistic is larger than 1.4 for some parameters. The sampler did not converge.\n",
      "The estimated number of effective samples is smaller than 200 for some parameters.\n"
     ]
    }
   ],
   "source": [
    "with model:\n",
    "    trace = pm.sample(n_samples, tune=n_tune, random_seed=SEED)"
   ]
  },
  {
   "cell_type": "code",
   "execution_count": 14,
   "metadata": {},
   "outputs": [
    {
     "data": {
      "text/plain": [
       "1.4808053766074636"
      ]
     },
     "execution_count": 14,
     "metadata": {},
     "output_type": "execute_result"
    }
   ],
   "source": [
    "np.exp(trace['beta'].mean())"
   ]
  },
  {
   "cell_type": "code",
   "execution_count": 15,
   "metadata": {},
   "outputs": [
    {
     "name": "stderr",
     "output_type": "stream",
     "text": [
      "/Users/nicolle_nordmann/anaconda3/lib/python3.7/site-packages/arviz/data/io_pymc3.py:89: FutureWarning: Using `from_pymc3` without the model will be deprecated in a future release. Not using the model will return less accurate and less useful results. Make sure you use the model argument or call from_pymc3 within a model context.\n",
      "  FutureWarning,\n"
     ]
    },
    {
     "data": {
      "image/png": "[encoded data removed]",
      "text/plain": [
       "<Figure size 432x288 with 1 Axes>"
      ]
     },
     "metadata": {
      "needs_background": "light"
     },
     "output_type": "display_data"
    }
   ],
   "source": [
    "pm.plot_posterior(trace, var_names=['beta'], color='#87ceeb');"
   ]
  },
  {
   "cell_type": "code",
   "execution_count": 16,
   "metadata": {},
   "outputs": [
    {
     "name": "stderr",
     "output_type": "stream",
     "text": [
      "/Users/nicolle_nordmann/anaconda3/lib/python3.7/site-packages/arviz/data/io_pymc3.py:89: FutureWarning: Using `from_pymc3` without the model will be deprecated in a future release. Not using the model will return less accurate and less useful results. Make sure you use the model argument or call from_pymc3 within a model context.\n",
      "  FutureWarning,\n"
     ]
    },
    {
     "data": {
      "image/png": "[encoded data removed]",
      "text/plain": [
       "<Figure size 993.6x331.2 with 2 Axes>"
      ]
     },
     "metadata": {
      "needs_background": "light"
     },
     "output_type": "display_data"
    }
   ],
   "source": [
    "pm.autocorrplot(trace, var_names=['beta']);"
   ]
  },
  {
   "cell_type": "code",
   "execution_count": 17,
   "metadata": {},
   "outputs": [],
   "source": [
    "base_hazard = trace['lambda0']\n",
    "met_hazard = trace['lambda0'] * np.exp(np.atleast_2d(trace['beta']).T)"
   ]
  },
  {
   "cell_type": "code",
   "execution_count": 18,
   "metadata": {},
   "outputs": [],
   "source": [
    "def cum_hazard(hazard):\n",
    "    return (interval_length * hazard).cumsum(axis=-1)\n",
    "\n",
    "def survival(hazard):\n",
    "    return np.exp(-cum_hazard(hazard))"
   ]
  },
  {
   "cell_type": "code",
   "execution_count": 19,
   "metadata": {},
   "outputs": [],
   "source": [
    "def plot_with_hpd(x, hazard, f, ax, color=None, label=None, alpha=0.05):\n",
    "    mean = f(hazard.mean(axis=0))\n",
    "\n",
    "    percentiles = 100 * np.array([alpha / 2., 1. - alpha / 2.])\n",
    "    hpd = np.percentile(f(hazard), percentiles, axis=0)\n",
    "\n",
    "    ax.fill_between(x, hpd[0], hpd[1], color=color, alpha=0.25)\n",
    "    ax.step(x, mean, color=color, label=label);"
   ]
  },
  {
   "cell_type": "code",
   "execution_count": 26,
   "metadata": {},
   "outputs": [
    {
     "data": {
      "image/png": "[encoded data removed]",
      "text/plain": [
       "<Figure size 1152x432 with 1 Axes>"
      ]
     },
     "metadata": {
      "needs_background": "light"
     },
     "output_type": "display_data"
    }
   ],
   "source": [
    "fig, (surv_ax) = plt.subplots(ncols=1, sharex=True, sharey=False, figsize=(16, 6))\n",
    "\n",
    "#plot_with_hpd(interval_bounds[:-1], base_hazard, cum_hazard, hazard_ax, color=blue, label='Had not metastized')\n",
    "#plot_with_hpd(interval_bounds[:-1], met_hazard, cum_hazard, hazard_ax, color=red, label='Metastized')\n",
    "\n",
    "#hazard_ax.set_xlim(0, df.time.max());\n",
    "#hazard_ax.set_xlabel('Months since mastectomy');\n",
    "#hazard_ax.set_ylabel(r'Cumulative hazard $\\Lambda(t)$');\n",
    "#hazard_ax.legend(loc=2);\n",
    "\n",
    "plot_with_hpd(interval_bounds[:-1], base_hazard, survival, surv_ax, color=blue)\n",
    "\n",
    "plot_with_hpd(interval_bounds[:-1], met_hazard, survival, surv_ax, color=red)\n",
    "\n",
    "surv_ax.set_xlim(0, df.time.max());\n",
    "surv_ax.set_xlabel('Months since mastectomy');\n",
    "\n",
    "surv_ax.set_ylabel('Survival function $S(t)$');\n",
    "\n",
    "fig.suptitle('Bayesian survival model');"
   ]
  }
 ],
 "metadata": {
  "kernelspec": {
   "display_name": "Python 3",
   "language": "python",
   "name": "python3"
  },
  "language_info": {
   "codemirror_mode": {
    "name": "ipython",
    "version": 3
   },
   "file_extension": ".py",
   "mimetype": "text/x-python",
   "name": "python",
   "nbconvert_exporter": "python",
   "pygments_lexer": "ipython3",
   "version": "3.7.6"
  }
 },
 "nbformat": 4,
 "nbformat_minor": 4
}
